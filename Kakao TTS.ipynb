{
 "cells": [
  {
   "cell_type": "code",
   "execution_count": 117,
   "id": "blocked-patrol",
   "metadata": {},
   "outputs": [],
   "source": [
    "# apt install mpg123\n",
    "import subprocess\n",
    "import os\n",
    "\n",
    "url = \"https://kakaoi-newtone-openapi.kakao.com/v1/synthesize\"\n",
    "\n",
    "#data = \"\"\"\n",
    "#<speak>\n",
    "#    <voice name=\"WOMAN_READ_CALM\"> 그냥 가서 일해.</voice>\n",
    "#    <voice name=\"MAN_READ_CALM\"> 하하하하하</voice>\n",
    "#    <voice name=\"WOMAN_DIALOG_BRIGHT\"> 내 이름은 곽정은.</voice>\n",
    "#    <voice name=\"MAN_DIALOG_BRIGHT\"> 크크크크</voice>\n",
    "#</speak>\n",
    "#\"\"\"\n",
    "\n",
    "text = '비가 내리고 음악이 흐르면, 나는 당신 생각에~'\n",
    "\n",
    "data = \"\"\"\n",
    "<speak>\n",
    "    <voice name=\"WOMAN_READ_CALM\"> %s</voice>\n",
    "</speak> \n",
    "\"\"\" % text\n",
    "\n",
    "\n",
    "res = subprocess.Popen(['curl', '-v', '-X', 'POST', url,\n",
    "                        '-H', \"Content-Type: application/xml\",\n",
    "                        '-H', \"Authorization: your key\",\n",
    "                        '-d', data], \n",
    "                       stdout = subprocess.PIPE, stderr = subprocess.PIPE)\n",
    "\n",
    "output, err = res.communicate()\n",
    "\n",
    "# 파일 생성\n",
    "f = open('audio_test.wav', 'wb')\n",
    "f.write(output)\n",
    "f.close()\n",
    "\n",
    "file = \"audio_test.wav\"\n",
    "os.system(\"mpg123 \" + file)\n",
    "\n",
    "# 파일 삭제\n",
    "os.remove(\"/home/aiffel-dj20/audio_test.wav\")\n",
    "\n",
    "# print(err)"
   ]
  }
 ],
 "metadata": {
  "kernelspec": {
   "display_name": "aiffel",
   "language": "python",
   "name": "aiffel"
  },
  "language_info": {
   "codemirror_mode": {
    "name": "ipython",
    "version": 3
   },
   "file_extension": ".py",
   "mimetype": "text/x-python",
   "name": "python",
   "nbconvert_exporter": "python",
   "pygments_lexer": "ipython3",
   "version": "3.7.9"
  }
 },
 "nbformat": 4,
 "nbformat_minor": 5
}
