{
 "cells": [
  {
   "cell_type": "code",
   "execution_count": 1,
   "id": "suited-brief",
   "metadata": {},
   "outputs": [
    {
     "name": "stdout",
     "output_type": "stream",
     "text": [
      "b'Note: Unnecessary use of -X or --request, POST is already inferred.\\n  % Total    % Received % Xferd  Average Speed   Time    Time     Time  Current\\n                                 Dload  Upload   Total   Spent    Left  Speed\\n\\r  0     0    0     0    0     0      0      0 --:--:-- --:--:-- --:--:--     0*   Trying 121.53.202.215...\\n* TCP_NODELAY set\\n\\r  0     0    0     0    0     0      0      0 --:--:-- --:--:-- --:--:--     0* Connected to kakaoi-newtone-openapi.kakao.com (121.53.202.215) port 443 (#0)\\n* ALPN, offering h2\\n* ALPN, offering http/1.1\\n* successfully set certificate verify locations:\\n*   CAfile: /etc/ssl/certs/ca-certificates.crt\\n  CApath: /etc/ssl/certs\\n} [5 bytes data]\\n* TLSv1.3 (OUT), TLS handshake, Client hello (1):\\n} [512 bytes data]\\n* TLSv1.3 (IN), TLS handshake, Server hello (2):\\n{ [91 bytes data]\\n* TLSv1.2 (IN), TLS handshake, Certificate (11):\\n{ [3956 bytes data]\\n* TLSv1.2 (IN), TLS handshake, Server finished (14):\\n{ [4 bytes data]\\n* TLSv1.2 (OUT), TLS handshake, Client key exchange (16):\\n} [262 bytes data]\\n* TLSv1.2 (OUT), TLS change cipher, Client hello (1):\\n} [1 bytes data]\\n* TLSv1.2 (OUT), TLS handshake, Finished (20):\\n} [16 bytes data]\\n* TLSv1.2 (IN), TLS handshake, Finished (20):\\n{ [16 bytes data]\\n* SSL connection using TLSv1.2 / AES256-SHA\\n* ALPN, server accepted to use http/1.1\\n* Server certificate:\\n*  subject: C=KR; ST=Jeju-do; L=Jeju-si; O=Kakao Corp.; CN=*.kakao.com\\n*  start date: Sep 10 00:00:00 2020 GMT\\n*  expire date: Oct 11 12:00:00 2021 GMT\\n*  subjectAltName: host \"kakaoi-newtone-openapi.kakao.com\" matched cert\\'s \"*.kakao.com\"\\n*  issuer: C=US; O=DigiCert Inc; OU=www.digicert.com; CN=Thawte TLS RSA CA G1\\n*  SSL certificate verify ok.\\n\\r  0     0    0     0    0     0      0      0 --:--:--  0:00:01 --:--:--     0} [5 bytes data]\\n> POST /v1/synthesize HTTP/1.1\\r\\n> Host: kakaoi-newtone-openapi.kakao.com\\r\\n> User-Agent: curl/7.58.0\\r\\n> Accept: */*\\r\\n> Content-Type: application/xml\\r\\n> Authorization: f086b91dd42878e96e93ebee3d0195fe\\r\\n> Content-Length: 444\\r\\n> \\r\\n} [444 bytes data]\\n* upload completely sent off: 444 out of 444 bytes\\n{ [5 bytes data]\\n< HTTP/1.1 200 OK\\r\\n< Server: openresty\\r\\n< Date: Tue, 01 Jun 2021 05:26:36 GMT\\r\\n< Content-Type: audio/mpeg\\r\\n< Transfer-Encoding: chunked\\r\\n< Connection: keep-alive\\r\\n< Access-Control-Allow-Origin: *\\r\\n< Vary: Origin\\r\\n< X-Tts-Length: 105\\r\\n< X-Tts-Session-Id: 0ff7dcf701bb364065ab35e5ed01263220ca55a1\\r\\n< X-Tts-Text: %EC%A7%80%EA%B8%88%EC%9D%80+%EC%97%AC%EC%84%B1+%EC%B0%A8%EB%B6%84%ED%95%9C+%EB%82%AD%EB%8F%85%EC%B2%B4%EC%9E%85%EB%8B%88%EB%8B%A4.+%EC%84%B1%EA%B3%B5%EC%9D%B8%EA%B0%80%3F+%EC%A7%80%EA%B8%88%EC%9D%80+%EB%82%A8%EC%84%B1+%EC%B0%A8%EB%B6%84%ED%95%9C+%EB%82%AD%EB%8F%85%EC%B2%B4%EC%9E%85%EB%8B%88%EB%8B%A4.+%EC%8B%A4%ED%8C%A8%EC%9D%B8%EA%B0%80%3F++%EC%95%88%EB%85%95%ED%95%98%EC%84%B8%EC%9A%94.+%EC%97%AC%EC%84%B1+%EB%B0%9D%EC%9D%80+%EB%8C%80%ED%99%94%EC%B2%B4%EC%98%88%EC%9A%94.+%EB%82%98%EB%8A%94+%EA%B3%BD%EC%A0%95%EC%9D%80.++%EC%95%88%EB%85%95%ED%95%98%EC%84%B8%EC%9A%94.+%EB%82%A8%EC%84%B1+%EB%B0%9D%EC%9D%80+%EB%8C%80%ED%99%94%EC%B2%B4%EC%98%88%EC%9A%94.+%ED%83%90%EC%A0%95%EC%9D%B8%EB%94%94%3F\\r\\n< \\r\\n{ [3153 bytes data]\\n\\r100  103k    0  103k  100   444  38881    163  0:00:02  0:00:02 --:--:-- 39030\\r100  191k    0  191k  100   444  68717    155  0:00:02  0:00:02 --:--:-- 68849\\n* Connection #0 to host kakaoi-newtone-openapi.kakao.com left intact\\n'\n"
     ]
    }
   ],
   "source": [
    "import subprocess\n",
    "\n",
    "url = \"https://kakaoi-newtone-openapi.kakao.com/v1/synthesize\"\n",
    "\n",
    "data = \"\"\"\n",
    "<speak>\n",
    "    <voice name=\"WOMAN_READ_CALM\"> 지금은 여성 차분한 낭독체입니다. 성공인가?</voice>\n",
    "    <voice name=\"MAN_READ_CALM\"> 지금은 남성 차분한 낭독체입니다. 실패인가?</voice>\n",
    "    <voice name=\"WOMAN_DIALOG_BRIGHT\"> 안녕하세요. 여성 밝은 대화체예요. 나는 곽정은.</voice>\n",
    "    <voice name=\"MAN_DIALOG_BRIGHT\"> 안녕하세요. 남성 밝은 대화체예요. 탐정인디?</voice>\n",
    "</speak>\n",
    "\"\"\"\n",
    "\n",
    "res = subprocess.Popen(['curl', '-v', '-X', 'POST', url,\n",
    "                        '-H', \"Content-Type: application/xml\",\n",
    "                        '-H', \"Authorization: f086b91dd42878e96e93ebee3d0195fe\",\n",
    "                        '-d', data], \n",
    "                       stdout = subprocess.PIPE, stderr = subprocess.PIPE)\n",
    "\n",
    "output, err = res.communicate()\n",
    "\n",
    "f = open('audio_test.wav', 'wb')\n",
    "f.write(output)\n",
    "f.close()\n",
    "\n",
    "print(err)"
   ]
  },
  {
   "cell_type": "code",
   "execution_count": null,
   "id": "phantom-heading",
   "metadata": {},
   "outputs": [],
   "source": []
  }
 ],
 "metadata": {
  "kernelspec": {
   "display_name": "aiffel",
   "language": "python",
   "name": "aiffel"
  },
  "language_info": {
   "codemirror_mode": {
    "name": "ipython",
    "version": 3
   },
   "file_extension": ".py",
   "mimetype": "text/x-python",
   "name": "python",
   "nbconvert_exporter": "python",
   "pygments_lexer": "ipython3",
   "version": "3.7.9"
  }
 },
 "nbformat": 4,
 "nbformat_minor": 5
}
