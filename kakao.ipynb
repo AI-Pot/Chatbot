{
 "cells": [
  {
   "cell_type": "code",
   "execution_count": null,
   "id": "breathing-concert",
   "metadata": {},
   "outputs": [],
   "source": [
    "# SpeechRecognition 3.8.1 라이브러리\n",
    "# PyAudio 0.2.11 라이브러리\n",
    "# 위 설치가 안되면 sudo apt-get install portaudio19-dev 부터 설치하고 pyaudio 설치"
   ]
  },
  {
   "cell_type": "code",
   "execution_count": 15,
   "id": "packed-mexican",
   "metadata": {},
   "outputs": [
    {
     "name": "stdout",
     "output_type": "stream",
     "text": [
      "말하시오.\n"
     ]
    }
   ],
   "source": [
    "import speech_recognition as sr\n",
    "\n",
    "#obtain audio from the mic\n",
    "r = sr.Recognizer()\n",
    "with sr.Microphone() as source:\n",
    "    print(\"말하시오.\")\n",
    "    # 소리가 날 때까지 기다림\n",
    "    audio = r.listen(source)"
   ]
  },
  {
   "cell_type": "code",
   "execution_count": 21,
   "id": "certified-search",
   "metadata": {},
   "outputs": [],
   "source": [
    "# write audio to a Wav file\n",
    "with open(\"/home/aiffel-dj20/Chatbot_data/microphone-result.wav\", \"wb\") as f:\n",
    "    f.write(audio.get_wav_data())"
   ]
  },
  {
   "cell_type": "markdown",
   "id": "magnetic-warrior",
   "metadata": {},
   "source": [
    "# Kakao"
   ]
  },
  {
   "cell_type": "code",
   "execution_count": 22,
   "id": "immune-boston",
   "metadata": {},
   "outputs": [],
   "source": [
    "import requests\n",
    "import json"
   ]
  },
  {
   "cell_type": "code",
   "execution_count": 23,
   "id": "rolled-cheese",
   "metadata": {},
   "outputs": [],
   "source": [
    "url = \"https://kakaoi-newtone-openapi.kakao.com/v1/recognize\""
   ]
  },
  {
   "cell_type": "code",
   "execution_count": 24,
   "id": "instant-sweet",
   "metadata": {},
   "outputs": [],
   "source": [
    "# 이건 제 아이디 key이니 각자의 것으로 바꿔주세요.\n",
    "k_tokens = {'native': 'be3ee6d4bedcd6edf0080ab8dadda296',\n",
    "            'rest': 'f086b91dd42878e96e93ebee3d0195fe',\n",
    "            'javascript' : '308e845de877a8dfeacad78ddab7bf04',\n",
    "            'admin' : '76370d33af5c053b815198fa93a7d372'}"
   ]
  },
  {
   "cell_type": "code",
   "execution_count": 37,
   "id": "divine-secret",
   "metadata": {},
   "outputs": [],
   "source": [
    "# 헤더 정보\n",
    "header = {\"Content-Type\" : \"application/octet-stream\",\n",
    "          \"Authorization\" : \"KakaoAK \" + k_tokens['rest']\n",
    "         }"
   ]
  },
  {
   "cell_type": "code",
   "execution_count": 43,
   "id": "searching-night",
   "metadata": {},
   "outputs": [
    {
     "name": "stdout",
     "output_type": "stream",
     "text": [
      "말하시오.\n"
     ]
    }
   ],
   "source": [
    "import speech_recognition as sr\n",
    "\n",
    "#obtain audio from the mic\n",
    "r = sr.Recognizer()\n",
    "with sr.Microphone(sample_rate=16000) as source:\n",
    "    print(\"말하시오.\")\n",
    "    audio = r.listen(source)"
   ]
  },
  {
   "cell_type": "code",
   "execution_count": 44,
   "id": "harmful-madness",
   "metadata": {},
   "outputs": [],
   "source": [
    "res = requests.post(url, headers=header, data=audio.get_raw_data())"
   ]
  },
  {
   "cell_type": "code",
   "execution_count": 46,
   "id": "laughing-charge",
   "metadata": {},
   "outputs": [
    {
     "data": {
      "text/plain": [
       "'------newtoneWLehpzl2Jme9nhsD\\r\\nContent-Type: application/json; charset=UTF-8\\r\\n\\r\\n{\"type\":\"beginPointDetection\",\"value\":\"BPD\"}\\r\\n------newtoneWLehpzl2Jme9nhsD\\r\\nContent-Type: application/json; charset=UTF-8\\r\\n\\r\\n{\"type\":\"partialResult\",\"value\":\"안\"}\\r\\n------newtoneWLehpzl2Jme9nhsD\\r\\nContent-Type: application/json; charset=UTF-8\\r\\n\\r\\n{\"type\":\"partialResult\",\"value\":\"안녕\"}\\r\\n------newtoneWLehpzl2Jme9nhsD\\r\\nContent-Type: application/json; charset=UTF-8\\r\\n\\r\\n{\"type\":\"partialResult\",\"value\":\"안녕하세요\"}\\r\\n------newtoneWLehpzl2Jme9nhsD\\r\\nContent-Type: application/json; charset=UTF-8\\r\\n\\r\\n{\"type\":\"partialResult\",\"value\":\"안녕하세요 걱정\"}\\r\\n------newtoneWLehpzl2Jme9nhsD\\r\\nContent-Type: application/json; charset=UTF-8\\r\\n\\r\\n{\"type\":\"partialResult\",\"value\":\"안녕하세요 걱정입니다\"}\\r\\n------newtoneWLehpzl2Jme9nhsD\\r\\nContent-Type: application/json; charset=UTF-8\\r\\n\\r\\n{\"type\":\"endPointDetection\",\"value\":\"EPD\"}\\r\\n------newtoneWLehpzl2Jme9nhsD\\r\\nContent-Type: application/json; charset=UTF-8\\r\\nSpeech-Length: 3\\r\\n\\r\\n{\"type\":\"finalResult\",\"value\":\"안녕하세요 걱정입니다\",\"nBest\":[{\"value\":\"안녕하세요 걱정입니다\",\"score\":94},{\"value\":\"안녕하세요 곽정은입니다\",\"score\":0},{\"value\":\"안녕하세요 곽정입니다\",\"score\":0},{\"value\":\"아 안녕하세요 걱정입니다\",\"score\":0},{\"value\":\"안녕하세요 걱정임니다\",\"score\":0}],\"voiceProfile\":{\"registered\":false,\"authenticated\":false},\"durationMS\":3600,\"qmarkScore\":0,\"gender\":0}\\r\\n------newtoneWLehpzl2Jme9nhsD--\\r\\n'"
      ]
     },
     "execution_count": 46,
     "metadata": {},
     "output_type": "execute_result"
    }
   ],
   "source": [
    "# 각각의 중간 단계가 저장됨.\n",
    "res.text"
   ]
  },
  {
   "cell_type": "code",
   "execution_count": null,
   "id": "muslim-newfoundland",
   "metadata": {},
   "outputs": [],
   "source": []
  },
  {
   "cell_type": "code",
   "execution_count": null,
   "id": "auburn-stuart",
   "metadata": {},
   "outputs": [],
   "source": []
  }
 ],
 "metadata": {
  "kernelspec": {
   "display_name": "aiffel",
   "language": "python",
   "name": "aiffel"
  },
  "language_info": {
   "codemirror_mode": {
    "name": "ipython",
    "version": 3
   },
   "file_extension": ".py",
   "mimetype": "text/x-python",
   "name": "python",
   "nbconvert_exporter": "python",
   "pygments_lexer": "ipython3",
   "version": "3.7.9"
  }
 },
 "nbformat": 4,
 "nbformat_minor": 5
}
